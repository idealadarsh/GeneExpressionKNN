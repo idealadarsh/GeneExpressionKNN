{
  "nbformat": 4,
  "nbformat_minor": 0,
  "metadata": {
    "colab": {
      "provenance": []
    },
    "kernelspec": {
      "name": "python3",
      "display_name": "Python 3"
    },
    "language_info": {
      "name": "python"
    },
    "widgets": {
      "application/vnd.jupyter.widget-state+json": {
        "c02f46cc3f6d4da88f4fc14192eba23f": {
          "model_module": "@jupyter-widgets/controls",
          "model_name": "HBoxModel",
          "model_module_version": "1.5.0",
          "state": {
            "_dom_classes": [],
            "_model_module": "@jupyter-widgets/controls",
            "_model_module_version": "1.5.0",
            "_model_name": "HBoxModel",
            "_view_count": null,
            "_view_module": "@jupyter-widgets/controls",
            "_view_module_version": "1.5.0",
            "_view_name": "HBoxView",
            "box_style": "",
            "children": [
              "IPY_MODEL_524101636b7445c3ace5134f3e04fa00",
              "IPY_MODEL_8d02bdbae3dd4f9bb8f89e31f82b4270",
              "IPY_MODEL_db26c4b41678403cb1cf16f34e5c4d8e"
            ],
            "layout": "IPY_MODEL_d612add50b934accb16ca89c93541fa7"
          }
        },
        "524101636b7445c3ace5134f3e04fa00": {
          "model_module": "@jupyter-widgets/controls",
          "model_name": "HTMLModel",
          "model_module_version": "1.5.0",
          "state": {
            "_dom_classes": [],
            "_model_module": "@jupyter-widgets/controls",
            "_model_module_version": "1.5.0",
            "_model_name": "HTMLModel",
            "_view_count": null,
            "_view_module": "@jupyter-widgets/controls",
            "_view_module_version": "1.5.0",
            "_view_name": "HTMLView",
            "description": "",
            "description_tooltip": null,
            "layout": "IPY_MODEL_725a3ee8e7b542afae87d37d6a82035a",
            "placeholder": "​",
            "style": "IPY_MODEL_385a7caf403f4d3da6fa8c12ab9b8f2e",
            "value": "Optimization Progress: 100%"
          }
        },
        "8d02bdbae3dd4f9bb8f89e31f82b4270": {
          "model_module": "@jupyter-widgets/controls",
          "model_name": "FloatProgressModel",
          "model_module_version": "1.5.0",
          "state": {
            "_dom_classes": [],
            "_model_module": "@jupyter-widgets/controls",
            "_model_module_version": "1.5.0",
            "_model_name": "FloatProgressModel",
            "_view_count": null,
            "_view_module": "@jupyter-widgets/controls",
            "_view_module_version": "1.5.0",
            "_view_name": "ProgressView",
            "bar_style": "",
            "description": "",
            "description_tooltip": null,
            "layout": "IPY_MODEL_57259a39bb274975aef88cec2dc9769a",
            "max": 300,
            "min": 0,
            "orientation": "horizontal",
            "style": "IPY_MODEL_b813eaa8c2344b4f9a2eb184d73bf804",
            "value": 300
          }
        },
        "db26c4b41678403cb1cf16f34e5c4d8e": {
          "model_module": "@jupyter-widgets/controls",
          "model_name": "HTMLModel",
          "model_module_version": "1.5.0",
          "state": {
            "_dom_classes": [],
            "_model_module": "@jupyter-widgets/controls",
            "_model_module_version": "1.5.0",
            "_model_name": "HTMLModel",
            "_view_count": null,
            "_view_module": "@jupyter-widgets/controls",
            "_view_module_version": "1.5.0",
            "_view_name": "HTMLView",
            "description": "",
            "description_tooltip": null,
            "layout": "IPY_MODEL_47bd64c0bb074fa0b5df3f6223f579e9",
            "placeholder": "​",
            "style": "IPY_MODEL_f2be8dd34aba4b5da67b1de1b9150387",
            "value": " 300/300 [12:25&lt;00:00,  5.04s/pipeline]"
          }
        },
        "d612add50b934accb16ca89c93541fa7": {
          "model_module": "@jupyter-widgets/base",
          "model_name": "LayoutModel",
          "model_module_version": "1.2.0",
          "state": {
            "_model_module": "@jupyter-widgets/base",
            "_model_module_version": "1.2.0",
            "_model_name": "LayoutModel",
            "_view_count": null,
            "_view_module": "@jupyter-widgets/base",
            "_view_module_version": "1.2.0",
            "_view_name": "LayoutView",
            "align_content": null,
            "align_items": null,
            "align_self": null,
            "border": null,
            "bottom": null,
            "display": null,
            "flex": null,
            "flex_flow": null,
            "grid_area": null,
            "grid_auto_columns": null,
            "grid_auto_flow": null,
            "grid_auto_rows": null,
            "grid_column": null,
            "grid_gap": null,
            "grid_row": null,
            "grid_template_areas": null,
            "grid_template_columns": null,
            "grid_template_rows": null,
            "height": null,
            "justify_content": null,
            "justify_items": null,
            "left": null,
            "margin": null,
            "max_height": null,
            "max_width": null,
            "min_height": null,
            "min_width": null,
            "object_fit": null,
            "object_position": null,
            "order": null,
            "overflow": null,
            "overflow_x": null,
            "overflow_y": null,
            "padding": null,
            "right": null,
            "top": null,
            "visibility": "hidden",
            "width": null
          }
        },
        "725a3ee8e7b542afae87d37d6a82035a": {
          "model_module": "@jupyter-widgets/base",
          "model_name": "LayoutModel",
          "model_module_version": "1.2.0",
          "state": {
            "_model_module": "@jupyter-widgets/base",
            "_model_module_version": "1.2.0",
            "_model_name": "LayoutModel",
            "_view_count": null,
            "_view_module": "@jupyter-widgets/base",
            "_view_module_version": "1.2.0",
            "_view_name": "LayoutView",
            "align_content": null,
            "align_items": null,
            "align_self": null,
            "border": null,
            "bottom": null,
            "display": null,
            "flex": null,
            "flex_flow": null,
            "grid_area": null,
            "grid_auto_columns": null,
            "grid_auto_flow": null,
            "grid_auto_rows": null,
            "grid_column": null,
            "grid_gap": null,
            "grid_row": null,
            "grid_template_areas": null,
            "grid_template_columns": null,
            "grid_template_rows": null,
            "height": null,
            "justify_content": null,
            "justify_items": null,
            "left": null,
            "margin": null,
            "max_height": null,
            "max_width": null,
            "min_height": null,
            "min_width": null,
            "object_fit": null,
            "object_position": null,
            "order": null,
            "overflow": null,
            "overflow_x": null,
            "overflow_y": null,
            "padding": null,
            "right": null,
            "top": null,
            "visibility": null,
            "width": null
          }
        },
        "385a7caf403f4d3da6fa8c12ab9b8f2e": {
          "model_module": "@jupyter-widgets/controls",
          "model_name": "DescriptionStyleModel",
          "model_module_version": "1.5.0",
          "state": {
            "_model_module": "@jupyter-widgets/controls",
            "_model_module_version": "1.5.0",
            "_model_name": "DescriptionStyleModel",
            "_view_count": null,
            "_view_module": "@jupyter-widgets/base",
            "_view_module_version": "1.2.0",
            "_view_name": "StyleView",
            "description_width": ""
          }
        },
        "57259a39bb274975aef88cec2dc9769a": {
          "model_module": "@jupyter-widgets/base",
          "model_name": "LayoutModel",
          "model_module_version": "1.2.0",
          "state": {
            "_model_module": "@jupyter-widgets/base",
            "_model_module_version": "1.2.0",
            "_model_name": "LayoutModel",
            "_view_count": null,
            "_view_module": "@jupyter-widgets/base",
            "_view_module_version": "1.2.0",
            "_view_name": "LayoutView",
            "align_content": null,
            "align_items": null,
            "align_self": null,
            "border": null,
            "bottom": null,
            "display": null,
            "flex": null,
            "flex_flow": null,
            "grid_area": null,
            "grid_auto_columns": null,
            "grid_auto_flow": null,
            "grid_auto_rows": null,
            "grid_column": null,
            "grid_gap": null,
            "grid_row": null,
            "grid_template_areas": null,
            "grid_template_columns": null,
            "grid_template_rows": null,
            "height": null,
            "justify_content": null,
            "justify_items": null,
            "left": null,
            "margin": null,
            "max_height": null,
            "max_width": null,
            "min_height": null,
            "min_width": null,
            "object_fit": null,
            "object_position": null,
            "order": null,
            "overflow": null,
            "overflow_x": null,
            "overflow_y": null,
            "padding": null,
            "right": null,
            "top": null,
            "visibility": null,
            "width": null
          }
        },
        "b813eaa8c2344b4f9a2eb184d73bf804": {
          "model_module": "@jupyter-widgets/controls",
          "model_name": "ProgressStyleModel",
          "model_module_version": "1.5.0",
          "state": {
            "_model_module": "@jupyter-widgets/controls",
            "_model_module_version": "1.5.0",
            "_model_name": "ProgressStyleModel",
            "_view_count": null,
            "_view_module": "@jupyter-widgets/base",
            "_view_module_version": "1.2.0",
            "_view_name": "StyleView",
            "bar_color": null,
            "description_width": ""
          }
        },
        "47bd64c0bb074fa0b5df3f6223f579e9": {
          "model_module": "@jupyter-widgets/base",
          "model_name": "LayoutModel",
          "model_module_version": "1.2.0",
          "state": {
            "_model_module": "@jupyter-widgets/base",
            "_model_module_version": "1.2.0",
            "_model_name": "LayoutModel",
            "_view_count": null,
            "_view_module": "@jupyter-widgets/base",
            "_view_module_version": "1.2.0",
            "_view_name": "LayoutView",
            "align_content": null,
            "align_items": null,
            "align_self": null,
            "border": null,
            "bottom": null,
            "display": null,
            "flex": null,
            "flex_flow": null,
            "grid_area": null,
            "grid_auto_columns": null,
            "grid_auto_flow": null,
            "grid_auto_rows": null,
            "grid_column": null,
            "grid_gap": null,
            "grid_row": null,
            "grid_template_areas": null,
            "grid_template_columns": null,
            "grid_template_rows": null,
            "height": null,
            "justify_content": null,
            "justify_items": null,
            "left": null,
            "margin": null,
            "max_height": null,
            "max_width": null,
            "min_height": null,
            "min_width": null,
            "object_fit": null,
            "object_position": null,
            "order": null,
            "overflow": null,
            "overflow_x": null,
            "overflow_y": null,
            "padding": null,
            "right": null,
            "top": null,
            "visibility": null,
            "width": null
          }
        },
        "f2be8dd34aba4b5da67b1de1b9150387": {
          "model_module": "@jupyter-widgets/controls",
          "model_name": "DescriptionStyleModel",
          "model_module_version": "1.5.0",
          "state": {
            "_model_module": "@jupyter-widgets/controls",
            "_model_module_version": "1.5.0",
            "_model_name": "DescriptionStyleModel",
            "_view_count": null,
            "_view_module": "@jupyter-widgets/base",
            "_view_module_version": "1.2.0",
            "_view_name": "StyleView",
            "description_width": ""
          }
        }
      }
    }
  },
  "cells": [
    {
      "cell_type": "markdown",
      "source": [
        "## Training Code"
      ],
      "metadata": {
        "id": "2ln8Ges27YyR"
      }
    },
    {
      "cell_type": "code",
      "source": [
        "!pip install tpot tensorflow"
      ],
      "metadata": {
        "colab": {
          "base_uri": "https://localhost:8080/"
        },
        "id": "f_APC9TCo_Xt",
        "outputId": "16a32113-083d-447e-a00a-4a95049bf7d2"
      },
      "execution_count": 29,
      "outputs": [
        {
          "output_type": "stream",
          "name": "stdout",
          "text": [
            "Looking in indexes: https://pypi.org/simple, https://us-python.pkg.dev/colab-wheels/public/simple/\n",
            "Requirement already satisfied: tpot in /usr/local/lib/python3.10/dist-packages (0.11.7)\n",
            "Requirement already satisfied: tensorflow in /usr/local/lib/python3.10/dist-packages (2.12.0)\n",
            "Requirement already satisfied: scikit-learn>=0.22.0 in /usr/local/lib/python3.10/dist-packages (from tpot) (1.2.2)\n",
            "Requirement already satisfied: joblib>=0.13.2 in /usr/local/lib/python3.10/dist-packages (from tpot) (1.2.0)\n",
            "Requirement already satisfied: tqdm>=4.36.1 in /usr/local/lib/python3.10/dist-packages (from tpot) (4.65.0)\n",
            "Requirement already satisfied: update-checker>=0.16 in /usr/local/lib/python3.10/dist-packages (from tpot) (0.18.0)\n",
            "Requirement already satisfied: stopit>=1.1.1 in /usr/local/lib/python3.10/dist-packages (from tpot) (1.1.2)\n",
            "Requirement already satisfied: scipy>=1.3.1 in /usr/local/lib/python3.10/dist-packages (from tpot) (1.10.1)\n",
            "Requirement already satisfied: deap>=1.2 in /usr/local/lib/python3.10/dist-packages (from tpot) (1.3.3)\n",
            "Requirement already satisfied: numpy>=1.16.3 in /usr/local/lib/python3.10/dist-packages (from tpot) (1.22.4)\n",
            "Requirement already satisfied: pandas>=0.24.2 in /usr/local/lib/python3.10/dist-packages (from tpot) (1.5.3)\n",
            "Requirement already satisfied: xgboost>=1.1.0 in /usr/local/lib/python3.10/dist-packages (from tpot) (1.7.5)\n",
            "Requirement already satisfied: astunparse>=1.6.0 in /usr/local/lib/python3.10/dist-packages (from tensorflow) (1.6.3)\n",
            "Requirement already satisfied: tensorflow-estimator<2.13,>=2.12.0 in /usr/local/lib/python3.10/dist-packages (from tensorflow) (2.12.0)\n",
            "Requirement already satisfied: google-pasta>=0.1.1 in /usr/local/lib/python3.10/dist-packages (from tensorflow) (0.2.0)\n",
            "Requirement already satisfied: jax>=0.3.15 in /usr/local/lib/python3.10/dist-packages (from tensorflow) (0.4.8)\n",
            "Requirement already satisfied: absl-py>=1.0.0 in /usr/local/lib/python3.10/dist-packages (from tensorflow) (1.4.0)\n",
            "Requirement already satisfied: grpcio<2.0,>=1.24.3 in /usr/local/lib/python3.10/dist-packages (from tensorflow) (1.54.0)\n",
            "Requirement already satisfied: libclang>=13.0.0 in /usr/local/lib/python3.10/dist-packages (from tensorflow) (16.0.0)\n",
            "Requirement already satisfied: termcolor>=1.1.0 in /usr/local/lib/python3.10/dist-packages (from tensorflow) (2.3.0)\n",
            "Requirement already satisfied: flatbuffers>=2.0 in /usr/local/lib/python3.10/dist-packages (from tensorflow) (23.3.3)\n",
            "Requirement already satisfied: packaging in /usr/local/lib/python3.10/dist-packages (from tensorflow) (23.1)\n",
            "Requirement already satisfied: opt-einsum>=2.3.2 in /usr/local/lib/python3.10/dist-packages (from tensorflow) (3.3.0)\n",
            "Requirement already satisfied: keras<2.13,>=2.12.0 in /usr/local/lib/python3.10/dist-packages (from tensorflow) (2.12.0)\n",
            "Requirement already satisfied: gast<=0.4.0,>=0.2.1 in /usr/local/lib/python3.10/dist-packages (from tensorflow) (0.4.0)\n",
            "Requirement already satisfied: tensorboard<2.13,>=2.12 in /usr/local/lib/python3.10/dist-packages (from tensorflow) (2.12.2)\n",
            "Requirement already satisfied: typing-extensions>=3.6.6 in /usr/local/lib/python3.10/dist-packages (from tensorflow) (4.5.0)\n",
            "Requirement already satisfied: h5py>=2.9.0 in /usr/local/lib/python3.10/dist-packages (from tensorflow) (3.8.0)\n",
            "Requirement already satisfied: wrapt<1.15,>=1.11.0 in /usr/local/lib/python3.10/dist-packages (from tensorflow) (1.14.1)\n",
            "Requirement already satisfied: tensorflow-io-gcs-filesystem>=0.23.1 in /usr/local/lib/python3.10/dist-packages (from tensorflow) (0.32.0)\n",
            "Requirement already satisfied: protobuf!=4.21.0,!=4.21.1,!=4.21.2,!=4.21.3,!=4.21.4,!=4.21.5,<5.0.0dev,>=3.20.3 in /usr/local/lib/python3.10/dist-packages (from tensorflow) (3.20.3)\n",
            "Requirement already satisfied: six>=1.12.0 in /usr/local/lib/python3.10/dist-packages (from tensorflow) (1.16.0)\n",
            "Requirement already satisfied: setuptools in /usr/local/lib/python3.10/dist-packages (from tensorflow) (67.7.2)\n",
            "Requirement already satisfied: wheel<1.0,>=0.23.0 in /usr/local/lib/python3.10/dist-packages (from astunparse>=1.6.0->tensorflow) (0.40.0)\n",
            "Requirement already satisfied: ml-dtypes>=0.0.3 in /usr/local/lib/python3.10/dist-packages (from jax>=0.3.15->tensorflow) (0.1.0)\n",
            "Requirement already satisfied: python-dateutil>=2.8.1 in /usr/local/lib/python3.10/dist-packages (from pandas>=0.24.2->tpot) (2.8.2)\n",
            "Requirement already satisfied: pytz>=2020.1 in /usr/local/lib/python3.10/dist-packages (from pandas>=0.24.2->tpot) (2022.7.1)\n",
            "Requirement already satisfied: threadpoolctl>=2.0.0 in /usr/local/lib/python3.10/dist-packages (from scikit-learn>=0.22.0->tpot) (3.1.0)\n",
            "Requirement already satisfied: werkzeug>=1.0.1 in /usr/local/lib/python3.10/dist-packages (from tensorboard<2.13,>=2.12->tensorflow) (2.3.0)\n",
            "Requirement already satisfied: tensorboard-data-server<0.8.0,>=0.7.0 in /usr/local/lib/python3.10/dist-packages (from tensorboard<2.13,>=2.12->tensorflow) (0.7.0)\n",
            "Requirement already satisfied: tensorboard-plugin-wit>=1.6.0 in /usr/local/lib/python3.10/dist-packages (from tensorboard<2.13,>=2.12->tensorflow) (1.8.1)\n",
            "Requirement already satisfied: requests<3,>=2.21.0 in /usr/local/lib/python3.10/dist-packages (from tensorboard<2.13,>=2.12->tensorflow) (2.27.1)\n",
            "Requirement already satisfied: google-auth<3,>=1.6.3 in /usr/local/lib/python3.10/dist-packages (from tensorboard<2.13,>=2.12->tensorflow) (2.17.3)\n",
            "Requirement already satisfied: google-auth-oauthlib<1.1,>=0.5 in /usr/local/lib/python3.10/dist-packages (from tensorboard<2.13,>=2.12->tensorflow) (1.0.0)\n",
            "Requirement already satisfied: markdown>=2.6.8 in /usr/local/lib/python3.10/dist-packages (from tensorboard<2.13,>=2.12->tensorflow) (3.4.3)\n",
            "Requirement already satisfied: pyasn1-modules>=0.2.1 in /usr/local/lib/python3.10/dist-packages (from google-auth<3,>=1.6.3->tensorboard<2.13,>=2.12->tensorflow) (0.3.0)\n",
            "Requirement already satisfied: rsa<5,>=3.1.4 in /usr/local/lib/python3.10/dist-packages (from google-auth<3,>=1.6.3->tensorboard<2.13,>=2.12->tensorflow) (4.9)\n",
            "Requirement already satisfied: cachetools<6.0,>=2.0.0 in /usr/local/lib/python3.10/dist-packages (from google-auth<3,>=1.6.3->tensorboard<2.13,>=2.12->tensorflow) (5.3.0)\n",
            "Requirement already satisfied: requests-oauthlib>=0.7.0 in /usr/local/lib/python3.10/dist-packages (from google-auth-oauthlib<1.1,>=0.5->tensorboard<2.13,>=2.12->tensorflow) (1.3.1)\n",
            "Requirement already satisfied: idna<4,>=2.5 in /usr/local/lib/python3.10/dist-packages (from requests<3,>=2.21.0->tensorboard<2.13,>=2.12->tensorflow) (3.4)\n",
            "Requirement already satisfied: certifi>=2017.4.17 in /usr/local/lib/python3.10/dist-packages (from requests<3,>=2.21.0->tensorboard<2.13,>=2.12->tensorflow) (2022.12.7)\n",
            "Requirement already satisfied: urllib3<1.27,>=1.21.1 in /usr/local/lib/python3.10/dist-packages (from requests<3,>=2.21.0->tensorboard<2.13,>=2.12->tensorflow) (1.26.15)\n",
            "Requirement already satisfied: charset-normalizer~=2.0.0 in /usr/local/lib/python3.10/dist-packages (from requests<3,>=2.21.0->tensorboard<2.13,>=2.12->tensorflow) (2.0.12)\n",
            "Requirement already satisfied: MarkupSafe>=2.1.1 in /usr/local/lib/python3.10/dist-packages (from werkzeug>=1.0.1->tensorboard<2.13,>=2.12->tensorflow) (2.1.2)\n",
            "Requirement already satisfied: pyasn1<0.6.0,>=0.4.6 in /usr/local/lib/python3.10/dist-packages (from pyasn1-modules>=0.2.1->google-auth<3,>=1.6.3->tensorboard<2.13,>=2.12->tensorflow) (0.5.0)\n",
            "Requirement already satisfied: oauthlib>=3.0.0 in /usr/local/lib/python3.10/dist-packages (from requests-oauthlib>=0.7.0->google-auth-oauthlib<1.1,>=0.5->tensorboard<2.13,>=2.12->tensorflow) (3.2.2)\n"
          ]
        }
      ]
    },
    {
      "cell_type": "code",
      "execution_count": 30,
      "metadata": {
        "id": "Z5FC80fykRfX"
      },
      "outputs": [],
      "source": [
        "import pandas as pd\n",
        "import matplotlib.pyplot as plt\n",
        "import tensorflow as tf\n",
        "from sklearn.model_selection import train_test_split\n",
        "from sklearn.neighbors import KNeighborsClassifier\n",
        "from sklearn.metrics import accuracy_score\n",
        "from joblib import dump\n",
        "import joblib\n",
        "from tpot import TPOTClassifier\n",
        "import numpy as np\n",
        "from tensorflow.keras.models import load_model"
      ]
    },
    {
      "cell_type": "code",
      "source": [
        "data = pd.read_excel('lung_data.xlsx')\n",
        "data['Result'] = data['Result'].replace({'YES': 1, 'NO': 0})"
      ],
      "metadata": {
        "id": "w-8-S0ZikUC9"
      },
      "execution_count": 5,
      "outputs": []
    },
    {
      "cell_type": "code",
      "source": [
        "X = data.iloc[:, 3:]\n",
        "y = data['Result']"
      ],
      "metadata": {
        "id": "LQ68USIGkv_8"
      },
      "execution_count": 6,
      "outputs": []
    },
    {
      "cell_type": "code",
      "source": [
        "X_train, X_test, y_train, y_test = train_test_split(X, y, test_size=0.3, random_state=42)"
      ],
      "metadata": {
        "id": "KBgPIgzekymt"
      },
      "execution_count": 7,
      "outputs": []
    },
    {
      "cell_type": "code",
      "source": [
        "tpot = TPOTClassifier(generations=5, population_size=50, verbosity=2, \n",
        "                      config_dict={'sklearn.neighbors.KNeighborsClassifier': {'n_neighbors': range(1, 11)}})\n",
        "tpot.fit(X_train, y_train)"
      ],
      "metadata": {
        "colab": {
          "base_uri": "https://localhost:8080/",
          "height": 311,
          "referenced_widgets": [
            "c02f46cc3f6d4da88f4fc14192eba23f",
            "524101636b7445c3ace5134f3e04fa00",
            "8d02bdbae3dd4f9bb8f89e31f82b4270",
            "db26c4b41678403cb1cf16f34e5c4d8e",
            "d612add50b934accb16ca89c93541fa7",
            "725a3ee8e7b542afae87d37d6a82035a",
            "385a7caf403f4d3da6fa8c12ab9b8f2e",
            "57259a39bb274975aef88cec2dc9769a",
            "b813eaa8c2344b4f9a2eb184d73bf804",
            "47bd64c0bb074fa0b5df3f6223f579e9",
            "f2be8dd34aba4b5da67b1de1b9150387"
          ]
        },
        "id": "MHLJcWX8ogzO",
        "outputId": "0ed9d615-fc2a-4233-8fec-eabc62847ca6"
      },
      "execution_count": 8,
      "outputs": [
        {
          "output_type": "display_data",
          "data": {
            "text/plain": [
              "Optimization Progress:   0%|          | 0/300 [00:00<?, ?pipeline/s]"
            ],
            "application/vnd.jupyter.widget-view+json": {
              "version_major": 2,
              "version_minor": 0,
              "model_id": "c02f46cc3f6d4da88f4fc14192eba23f"
            }
          },
          "metadata": {}
        },
        {
          "output_type": "stream",
          "name": "stdout",
          "text": [
            "\n",
            "Generation 1 - Current best internal CV score: 0.954308617234469\n",
            "\n",
            "Generation 2 - Current best internal CV score: 0.954308617234469\n",
            "\n",
            "Generation 3 - Current best internal CV score: 0.954308617234469\n",
            "\n",
            "Generation 4 - Current best internal CV score: 0.954308617234469\n",
            "\n",
            "Generation 5 - Current best internal CV score: 0.954308617234469\n",
            "\n",
            "Best pipeline: KNeighborsClassifier(CombineDFs(input_matrix, input_matrix), n_neighbors=9)\n"
          ]
        },
        {
          "output_type": "execute_result",
          "data": {
            "text/plain": [
              "TPOTClassifier(config_dict={'sklearn.neighbors.KNeighborsClassifier': {'n_neighbors': range(1, 11)}},\n",
              "               generations=5, population_size=50, verbosity=2)"
            ],
            "text/html": [
              "<style>#sk-container-id-1 {color: black;background-color: white;}#sk-container-id-1 pre{padding: 0;}#sk-container-id-1 div.sk-toggleable {background-color: white;}#sk-container-id-1 label.sk-toggleable__label {cursor: pointer;display: block;width: 100%;margin-bottom: 0;padding: 0.3em;box-sizing: border-box;text-align: center;}#sk-container-id-1 label.sk-toggleable__label-arrow:before {content: \"▸\";float: left;margin-right: 0.25em;color: #696969;}#sk-container-id-1 label.sk-toggleable__label-arrow:hover:before {color: black;}#sk-container-id-1 div.sk-estimator:hover label.sk-toggleable__label-arrow:before {color: black;}#sk-container-id-1 div.sk-toggleable__content {max-height: 0;max-width: 0;overflow: hidden;text-align: left;background-color: #f0f8ff;}#sk-container-id-1 div.sk-toggleable__content pre {margin: 0.2em;color: black;border-radius: 0.25em;background-color: #f0f8ff;}#sk-container-id-1 input.sk-toggleable__control:checked~div.sk-toggleable__content {max-height: 200px;max-width: 100%;overflow: auto;}#sk-container-id-1 input.sk-toggleable__control:checked~label.sk-toggleable__label-arrow:before {content: \"▾\";}#sk-container-id-1 div.sk-estimator input.sk-toggleable__control:checked~label.sk-toggleable__label {background-color: #d4ebff;}#sk-container-id-1 div.sk-label input.sk-toggleable__control:checked~label.sk-toggleable__label {background-color: #d4ebff;}#sk-container-id-1 input.sk-hidden--visually {border: 0;clip: rect(1px 1px 1px 1px);clip: rect(1px, 1px, 1px, 1px);height: 1px;margin: -1px;overflow: hidden;padding: 0;position: absolute;width: 1px;}#sk-container-id-1 div.sk-estimator {font-family: monospace;background-color: #f0f8ff;border: 1px dotted black;border-radius: 0.25em;box-sizing: border-box;margin-bottom: 0.5em;}#sk-container-id-1 div.sk-estimator:hover {background-color: #d4ebff;}#sk-container-id-1 div.sk-parallel-item::after {content: \"\";width: 100%;border-bottom: 1px solid gray;flex-grow: 1;}#sk-container-id-1 div.sk-label:hover label.sk-toggleable__label {background-color: #d4ebff;}#sk-container-id-1 div.sk-serial::before {content: \"\";position: absolute;border-left: 1px solid gray;box-sizing: border-box;top: 0;bottom: 0;left: 50%;z-index: 0;}#sk-container-id-1 div.sk-serial {display: flex;flex-direction: column;align-items: center;background-color: white;padding-right: 0.2em;padding-left: 0.2em;position: relative;}#sk-container-id-1 div.sk-item {position: relative;z-index: 1;}#sk-container-id-1 div.sk-parallel {display: flex;align-items: stretch;justify-content: center;background-color: white;position: relative;}#sk-container-id-1 div.sk-item::before, #sk-container-id-1 div.sk-parallel-item::before {content: \"\";position: absolute;border-left: 1px solid gray;box-sizing: border-box;top: 0;bottom: 0;left: 50%;z-index: -1;}#sk-container-id-1 div.sk-parallel-item {display: flex;flex-direction: column;z-index: 1;position: relative;background-color: white;}#sk-container-id-1 div.sk-parallel-item:first-child::after {align-self: flex-end;width: 50%;}#sk-container-id-1 div.sk-parallel-item:last-child::after {align-self: flex-start;width: 50%;}#sk-container-id-1 div.sk-parallel-item:only-child::after {width: 0;}#sk-container-id-1 div.sk-dashed-wrapped {border: 1px dashed gray;margin: 0 0.4em 0.5em 0.4em;box-sizing: border-box;padding-bottom: 0.4em;background-color: white;}#sk-container-id-1 div.sk-label label {font-family: monospace;font-weight: bold;display: inline-block;line-height: 1.2em;}#sk-container-id-1 div.sk-label-container {text-align: center;}#sk-container-id-1 div.sk-container {/* jupyter's `normalize.less` sets `[hidden] { display: none; }` but bootstrap.min.css set `[hidden] { display: none !important; }` so we also need the `!important` here to be able to override the default hidden behavior on the sphinx rendered scikit-learn.org. See: https://github.com/scikit-learn/scikit-learn/issues/21755 */display: inline-block !important;position: relative;}#sk-container-id-1 div.sk-text-repr-fallback {display: none;}</style><div id=\"sk-container-id-1\" class=\"sk-top-container\"><div class=\"sk-text-repr-fallback\"><pre>TPOTClassifier(config_dict={&#x27;sklearn.neighbors.KNeighborsClassifier&#x27;: {&#x27;n_neighbors&#x27;: range(1, 11)}},\n",
              "               generations=5, population_size=50, verbosity=2)</pre><b>In a Jupyter environment, please rerun this cell to show the HTML representation or trust the notebook. <br />On GitHub, the HTML representation is unable to render, please try loading this page with nbviewer.org.</b></div><div class=\"sk-container\" hidden><div class=\"sk-item\"><div class=\"sk-estimator sk-toggleable\"><input class=\"sk-toggleable__control sk-hidden--visually\" id=\"sk-estimator-id-1\" type=\"checkbox\" checked><label for=\"sk-estimator-id-1\" class=\"sk-toggleable__label sk-toggleable__label-arrow\">TPOTClassifier</label><div class=\"sk-toggleable__content\"><pre>TPOTClassifier(config_dict={&#x27;sklearn.neighbors.KNeighborsClassifier&#x27;: {&#x27;n_neighbors&#x27;: range(1, 11)}},\n",
              "               generations=5, population_size=50, verbosity=2)</pre></div></div></div></div></div>"
            ]
          },
          "metadata": {},
          "execution_count": 8
        }
      ]
    },
    {
      "cell_type": "code",
      "source": [
        "k = tpot.fitted_pipeline_"
      ],
      "metadata": {
        "id": "2c8v8ZDso3_M"
      },
      "execution_count": 9,
      "outputs": []
    },
    {
      "cell_type": "code",
      "source": [
        "y_pred_knn = k.predict(X_test)"
      ],
      "metadata": {
        "id": "jWb70m-Flqql"
      },
      "execution_count": 10,
      "outputs": []
    },
    {
      "cell_type": "code",
      "source": [
        "accuracy_knn = accuracy_score(y_test, y_pred_knn)\n",
        "print('Accuracy of KNN:', accuracy_knn)"
      ],
      "metadata": {
        "colab": {
          "base_uri": "https://localhost:8080/"
        },
        "id": "sppqfTg-lry8",
        "outputId": "648cd7f3-1b2b-40b6-d32d-edadcdc229bd"
      },
      "execution_count": 11,
      "outputs": [
        {
          "output_type": "stream",
          "name": "stdout",
          "text": [
            "Accuracy of KNN: 0.946236559139785\n"
          ]
        }
      ]
    },
    {
      "cell_type": "code",
      "source": [
        "model = tf.keras.Sequential([\n",
        "    tf.keras.layers.Dense(16, activation='relu', input_shape=(X_train.shape[1],)),\n",
        "    tf.keras.layers.Dense(1, activation='sigmoid')\n",
        "])"
      ],
      "metadata": {
        "id": "U27ju6ALutJL"
      },
      "execution_count": 12,
      "outputs": []
    },
    {
      "cell_type": "code",
      "source": [
        "model.compile(optimizer='adam', loss='binary_crossentropy', metrics=['accuracy'])"
      ],
      "metadata": {
        "id": "BcONwVMGuvLs"
      },
      "execution_count": 13,
      "outputs": []
    },
    {
      "cell_type": "code",
      "source": [
        "history = model.fit(X_train, y_train, epochs=50, validation_split=0.2, verbose=2)"
      ],
      "metadata": {
        "colab": {
          "base_uri": "https://localhost:8080/"
        },
        "id": "agdDRz-Iu5MT",
        "outputId": "08a5af32-1401-4429-9eee-86bc854a978f"
      },
      "execution_count": 14,
      "outputs": [
        {
          "output_type": "stream",
          "name": "stdout",
          "text": [
            "Epoch 1/50\n",
            "125/125 - 1s - loss: 19.8467 - accuracy: 0.7565 - val_loss: 14.8030 - val_accuracy: 0.7515 - 1s/epoch - 12ms/step\n",
            "Epoch 2/50\n",
            "125/125 - 0s - loss: 10.5885 - accuracy: 0.7856 - val_loss: 9.4193 - val_accuracy: 0.7766 - 254ms/epoch - 2ms/step\n",
            "Epoch 3/50\n",
            "125/125 - 0s - loss: 6.4312 - accuracy: 0.7998 - val_loss: 5.7337 - val_accuracy: 0.7786 - 277ms/epoch - 2ms/step\n",
            "Epoch 4/50\n",
            "125/125 - 0s - loss: 3.4753 - accuracy: 0.8121 - val_loss: 4.2183 - val_accuracy: 0.8006 - 275ms/epoch - 2ms/step\n",
            "Epoch 5/50\n",
            "125/125 - 0s - loss: 2.3643 - accuracy: 0.8297 - val_loss: 3.1955 - val_accuracy: 0.8006 - 263ms/epoch - 2ms/step\n",
            "Epoch 6/50\n",
            "125/125 - 0s - loss: 1.5897 - accuracy: 0.8414 - val_loss: 3.3292 - val_accuracy: 0.8226 - 255ms/epoch - 2ms/step\n",
            "Epoch 7/50\n",
            "125/125 - 0s - loss: 1.2382 - accuracy: 0.8467 - val_loss: 2.7979 - val_accuracy: 0.8337 - 256ms/epoch - 2ms/step\n",
            "Epoch 8/50\n",
            "125/125 - 0s - loss: 1.1644 - accuracy: 0.8537 - val_loss: 2.0954 - val_accuracy: 0.8377 - 229ms/epoch - 2ms/step\n",
            "Epoch 9/50\n",
            "125/125 - 0s - loss: 0.8650 - accuracy: 0.8680 - val_loss: 2.2208 - val_accuracy: 0.8427 - 263ms/epoch - 2ms/step\n",
            "Epoch 10/50\n",
            "125/125 - 0s - loss: 0.7012 - accuracy: 0.8763 - val_loss: 2.4824 - val_accuracy: 0.8557 - 256ms/epoch - 2ms/step\n",
            "Epoch 11/50\n",
            "125/125 - 0s - loss: 0.6317 - accuracy: 0.8805 - val_loss: 2.2267 - val_accuracy: 0.8527 - 356ms/epoch - 3ms/step\n",
            "Epoch 12/50\n",
            "125/125 - 0s - loss: 0.5400 - accuracy: 0.8915 - val_loss: 2.3288 - val_accuracy: 0.8808 - 364ms/epoch - 3ms/step\n",
            "Epoch 13/50\n",
            "125/125 - 0s - loss: 0.4755 - accuracy: 0.8948 - val_loss: 2.3018 - val_accuracy: 0.8627 - 356ms/epoch - 3ms/step\n",
            "Epoch 14/50\n",
            "125/125 - 0s - loss: 0.4230 - accuracy: 0.8953 - val_loss: 2.3390 - val_accuracy: 0.8758 - 359ms/epoch - 3ms/step\n",
            "Epoch 15/50\n",
            "125/125 - 0s - loss: 0.3707 - accuracy: 0.9076 - val_loss: 2.4208 - val_accuracy: 0.8848 - 382ms/epoch - 3ms/step\n",
            "Epoch 16/50\n",
            "125/125 - 0s - loss: 0.3517 - accuracy: 0.9088 - val_loss: 1.4299 - val_accuracy: 0.8908 - 391ms/epoch - 3ms/step\n",
            "Epoch 17/50\n",
            "125/125 - 0s - loss: 0.3101 - accuracy: 0.9206 - val_loss: 1.5231 - val_accuracy: 0.8778 - 335ms/epoch - 3ms/step\n",
            "Epoch 18/50\n",
            "125/125 - 0s - loss: 0.2757 - accuracy: 0.9236 - val_loss: 1.6188 - val_accuracy: 0.9068 - 388ms/epoch - 3ms/step\n",
            "Epoch 19/50\n",
            "125/125 - 0s - loss: 0.2600 - accuracy: 0.9251 - val_loss: 1.5351 - val_accuracy: 0.9048 - 253ms/epoch - 2ms/step\n",
            "Epoch 20/50\n",
            "125/125 - 0s - loss: 0.2410 - accuracy: 0.9246 - val_loss: 1.5725 - val_accuracy: 0.8868 - 260ms/epoch - 2ms/step\n",
            "Epoch 21/50\n",
            "125/125 - 0s - loss: 0.2172 - accuracy: 0.9326 - val_loss: 1.6556 - val_accuracy: 0.9108 - 265ms/epoch - 2ms/step\n",
            "Epoch 22/50\n",
            "125/125 - 0s - loss: 0.1987 - accuracy: 0.9379 - val_loss: 1.6725 - val_accuracy: 0.9148 - 270ms/epoch - 2ms/step\n",
            "Epoch 23/50\n",
            "125/125 - 0s - loss: 0.1840 - accuracy: 0.9424 - val_loss: 1.6063 - val_accuracy: 0.9088 - 267ms/epoch - 2ms/step\n",
            "Epoch 24/50\n",
            "125/125 - 0s - loss: 0.1890 - accuracy: 0.9426 - val_loss: 1.3649 - val_accuracy: 0.9088 - 300ms/epoch - 2ms/step\n",
            "Epoch 25/50\n",
            "125/125 - 0s - loss: 0.1831 - accuracy: 0.9411 - val_loss: 1.4051 - val_accuracy: 0.9108 - 262ms/epoch - 2ms/step\n",
            "Epoch 26/50\n",
            "125/125 - 0s - loss: 0.1598 - accuracy: 0.9476 - val_loss: 1.4024 - val_accuracy: 0.9259 - 257ms/epoch - 2ms/step\n",
            "Epoch 27/50\n",
            "125/125 - 0s - loss: 0.1500 - accuracy: 0.9509 - val_loss: 1.4840 - val_accuracy: 0.9098 - 253ms/epoch - 2ms/step\n",
            "Epoch 28/50\n",
            "125/125 - 0s - loss: 0.1481 - accuracy: 0.9502 - val_loss: 1.4486 - val_accuracy: 0.9279 - 265ms/epoch - 2ms/step\n",
            "Epoch 29/50\n",
            "125/125 - 0s - loss: 0.1381 - accuracy: 0.9504 - val_loss: 1.5387 - val_accuracy: 0.9309 - 262ms/epoch - 2ms/step\n",
            "Epoch 30/50\n",
            "125/125 - 0s - loss: 0.1366 - accuracy: 0.9532 - val_loss: 1.4320 - val_accuracy: 0.9228 - 251ms/epoch - 2ms/step\n",
            "Epoch 31/50\n",
            "125/125 - 0s - loss: 0.1306 - accuracy: 0.9537 - val_loss: 1.5658 - val_accuracy: 0.9118 - 281ms/epoch - 2ms/step\n",
            "Epoch 32/50\n",
            "125/125 - 0s - loss: 0.1242 - accuracy: 0.9557 - val_loss: 1.5982 - val_accuracy: 0.9248 - 247ms/epoch - 2ms/step\n",
            "Epoch 33/50\n",
            "125/125 - 0s - loss: 0.1204 - accuracy: 0.9559 - val_loss: 1.5557 - val_accuracy: 0.9349 - 294ms/epoch - 2ms/step\n",
            "Epoch 34/50\n",
            "125/125 - 0s - loss: 0.1159 - accuracy: 0.9604 - val_loss: 1.5942 - val_accuracy: 0.9178 - 318ms/epoch - 3ms/step\n",
            "Epoch 35/50\n",
            "125/125 - 0s - loss: 0.1122 - accuracy: 0.9612 - val_loss: 1.6237 - val_accuracy: 0.9329 - 271ms/epoch - 2ms/step\n",
            "Epoch 36/50\n",
            "125/125 - 0s - loss: 0.1092 - accuracy: 0.9654 - val_loss: 1.6171 - val_accuracy: 0.9218 - 248ms/epoch - 2ms/step\n",
            "Epoch 37/50\n",
            "125/125 - 0s - loss: 0.1086 - accuracy: 0.9622 - val_loss: 1.6684 - val_accuracy: 0.9449 - 255ms/epoch - 2ms/step\n",
            "Epoch 38/50\n",
            "125/125 - 0s - loss: 0.1057 - accuracy: 0.9654 - val_loss: 1.6536 - val_accuracy: 0.9419 - 260ms/epoch - 2ms/step\n",
            "Epoch 39/50\n",
            "125/125 - 0s - loss: 0.1024 - accuracy: 0.9654 - val_loss: 1.6600 - val_accuracy: 0.9349 - 272ms/epoch - 2ms/step\n",
            "Epoch 40/50\n",
            "125/125 - 0s - loss: 0.0993 - accuracy: 0.9689 - val_loss: 1.6988 - val_accuracy: 0.9449 - 270ms/epoch - 2ms/step\n",
            "Epoch 41/50\n",
            "125/125 - 0s - loss: 0.0975 - accuracy: 0.9687 - val_loss: 1.6745 - val_accuracy: 0.9449 - 304ms/epoch - 2ms/step\n",
            "Epoch 42/50\n",
            "125/125 - 0s - loss: 0.0949 - accuracy: 0.9667 - val_loss: 1.6707 - val_accuracy: 0.9289 - 279ms/epoch - 2ms/step\n",
            "Epoch 43/50\n",
            "125/125 - 0s - loss: 0.0931 - accuracy: 0.9709 - val_loss: 1.6507 - val_accuracy: 0.9429 - 269ms/epoch - 2ms/step\n",
            "Epoch 44/50\n",
            "125/125 - 0s - loss: 0.0910 - accuracy: 0.9687 - val_loss: 1.6439 - val_accuracy: 0.9319 - 261ms/epoch - 2ms/step\n",
            "Epoch 45/50\n",
            "125/125 - 0s - loss: 0.0914 - accuracy: 0.9667 - val_loss: 1.6949 - val_accuracy: 0.9469 - 273ms/epoch - 2ms/step\n",
            "Epoch 46/50\n",
            "125/125 - 0s - loss: 0.0867 - accuracy: 0.9732 - val_loss: 1.6825 - val_accuracy: 0.9439 - 263ms/epoch - 2ms/step\n",
            "Epoch 47/50\n",
            "125/125 - 0s - loss: 0.0860 - accuracy: 0.9724 - val_loss: 1.7008 - val_accuracy: 0.9319 - 244ms/epoch - 2ms/step\n",
            "Epoch 48/50\n",
            "125/125 - 0s - loss: 0.0856 - accuracy: 0.9712 - val_loss: 1.7064 - val_accuracy: 0.9359 - 269ms/epoch - 2ms/step\n",
            "Epoch 49/50\n",
            "125/125 - 0s - loss: 0.0827 - accuracy: 0.9739 - val_loss: 1.7542 - val_accuracy: 0.9449 - 272ms/epoch - 2ms/step\n",
            "Epoch 50/50\n",
            "125/125 - 0s - loss: 0.0813 - accuracy: 0.9744 - val_loss: 1.7021 - val_accuracy: 0.9439 - 266ms/epoch - 2ms/step\n"
          ]
        }
      ]
    },
    {
      "cell_type": "code",
      "source": [
        "y_pred_ann = (model.predict(X_test) > 0.5).astype(\"int32\")"
      ],
      "metadata": {
        "colab": {
          "base_uri": "https://localhost:8080/"
        },
        "id": "4ukJ1jQbu9Qr",
        "outputId": "2bfcbf54-4090-4007-cfbe-31e6802d97dc"
      },
      "execution_count": 17,
      "outputs": [
        {
          "output_type": "stream",
          "name": "stdout",
          "text": [
            "67/67 [==============================] - 1s 3ms/step\n"
          ]
        }
      ]
    },
    {
      "cell_type": "code",
      "source": [
        "accuracy_ann = accuracy_score(y_test, y_pred_ann)\n",
        "print('Accuracy of ANN:', accuracy_ann)"
      ],
      "metadata": {
        "colab": {
          "base_uri": "https://localhost:8080/"
        },
        "id": "OGyd5wRA0rwo",
        "outputId": "280b48ef-71b2-4a01-a9c0-1f4c5deaa8e9"
      },
      "execution_count": 18,
      "outputs": [
        {
          "output_type": "stream",
          "name": "stdout",
          "text": [
            "Accuracy of ANN: 0.9261337073398784\n"
          ]
        }
      ]
    },
    {
      "cell_type": "code",
      "source": [
        "dump(k, 'lung_cancer_knn.joblib')\n",
        "model.save('lung_cancer_model.h5')"
      ],
      "metadata": {
        "id": "cdh564xSvAnc"
      },
      "execution_count": 19,
      "outputs": []
    },
    {
      "cell_type": "code",
      "source": [
        "plt.scatter(X['AD10'], X['AD2'], c=y, cmap='coolwarm')\n",
        "plt.xlabel('AD10')\n",
        "plt.ylabel('AD2')\n",
        "plt.show()"
      ],
      "metadata": {
        "colab": {
          "base_uri": "https://localhost:8080/",
          "height": 449
        },
        "id": "pUM91KMJltfd",
        "outputId": "bc209ef5-eb05-435d-9a7a-6dbff0804e67"
      },
      "execution_count": 20,
      "outputs": [
        {
          "output_type": "display_data",
          "data": {
            "text/plain": [
              "<Figure size 640x480 with 1 Axes>"
            ],
            "image/png": "[encoded data removed]"
          },
          "metadata": {}
        }
      ]
    },
    {
      "cell_type": "code",
      "source": [
        "!zip -r lung_cancer_model.zip ./lung_*"
      ],
      "metadata": {
        "colab": {
          "base_uri": "https://localhost:8080/"
        },
        "id": "tEG6yYGYvV26",
        "outputId": "26a64482-6b07-4bb7-c525-17ac1d5e0bd6"
      },
      "execution_count": 23,
      "outputs": [
        {
          "output_type": "stream",
          "name": "stdout",
          "text": [
            "updating: lung_cancer_knn.joblib (deflated 82%)\n",
            "updating: lung_cancer_model.h5 (deflated 54%)\n",
            "updating: lung_cancer_model.joblib (deflated 50%)\n",
            "  adding: lung_data.xlsx (deflated 0%)\n"
          ]
        }
      ]
    },
    {
      "cell_type": "markdown",
      "source": [
        "## Testing Code"
      ],
      "metadata": {
        "id": "ZqUUkny_0_5X"
      }
    },
    {
      "cell_type": "code",
      "source": [
        "# Load new data\n",
        "new_data = pd.read_excel('new_lung_data.xlsx')\n",
        "new_data['Result'] = new_data['Result'].replace({'YES': 1, 'NO': 0})\n",
        "\n",
        "X_new = new_data.iloc[:, 3:]\n",
        "y_new = new_data['Result']\n",
        "\n",
        "# Load the saved models\n",
        "loaded_knn = joblib.load('lung_cancer_knn.joblib')\n",
        "loaded_ann = load_model('lung_cancer_model.h5')\n",
        "\n",
        "# Make predictions using KNN and ANN\n",
        "y_pred_knn_new = loaded_knn.predict(X_new)\n",
        "y_pred_ann_new = (loaded_ann.predict(X_new) > 0.5).astype(\"int32\")\n",
        "\n",
        "# Calculate accuracy for the new data\n",
        "accuracy_knn_new = accuracy_score(y_new, y_pred_knn_new)\n",
        "accuracy_ann_new = accuracy_score(y_new, y_pred_ann_new)\n",
        "\n",
        "# Print the accuracy\n",
        "print('Accuracy of KNN for new data:', accuracy_knn_new)\n",
        "print('Accuracy of ANN for new data:', accuracy_ann_new)"
      ],
      "metadata": {
        "colab": {
          "base_uri": "https://localhost:8080/"
        },
        "id": "yAGJZ-871Hxs",
        "outputId": "2994bd18-15d6-4971-9dca-14778df54d0c"
      },
      "execution_count": 31,
      "outputs": [
        {
          "output_type": "stream",
          "name": "stdout",
          "text": [
            "223/223 [==============================] - 0s 1ms/step\n",
            "Accuracy of KNN for new data: 0.9576378173656894\n",
            "Accuracy of ANN for new data: 0.9563753682143358\n"
          ]
        }
      ]
    }
  ]
}