{
  "nbformat": 4,
  "nbformat_minor": 0,
  "metadata": {
    "colab": {
      "provenance": []
    },
    "kernelspec": {
      "name": "python3",
      "display_name": "Python 3"
    },
    "language_info": {
      "name": "python"
    }
  },
  "cells": [
    {
      "cell_type": "code",
      "execution_count": null,
      "metadata": {
        "colab": {
          "base_uri": "https://localhost:8080/"
        },
        "id": "f2bneTXdJrJC",
        "outputId": "e411f015-06bf-4800-f7fb-2c100e4a8a5f"
      },
      "outputs": [
        {
          "output_type": "stream",
          "name": "stdout",
          "text": [
            "Looking in indexes: https://pypi.org/simple, https://us-python.pkg.dev/colab-wheels/public/simple/\n",
            "Requirement already satisfied: scikit-learn in /usr/local/lib/python3.10/dist-packages (1.2.2)\n",
            "Requirement already satisfied: pandas in /usr/local/lib/python3.10/dist-packages (1.5.3)\n",
            "Requirement already satisfied: numpy in /usr/local/lib/python3.10/dist-packages (1.22.4)\n",
            "Requirement already satisfied: statsmodels in /usr/local/lib/python3.10/dist-packages (0.13.5)\n",
            "Requirement already satisfied: scipy>=1.3.2 in /usr/local/lib/python3.10/dist-packages (from scikit-learn) (1.10.1)\n",
            "Requirement already satisfied: joblib>=1.1.1 in /usr/local/lib/python3.10/dist-packages (from scikit-learn) (1.2.0)\n",
            "Requirement already satisfied: threadpoolctl>=2.0.0 in /usr/local/lib/python3.10/dist-packages (from scikit-learn) (3.1.0)\n",
            "Requirement already satisfied: python-dateutil>=2.8.1 in /usr/local/lib/python3.10/dist-packages (from pandas) (2.8.2)\n",
            "Requirement already satisfied: pytz>=2020.1 in /usr/local/lib/python3.10/dist-packages (from pandas) (2022.7.1)\n",
            "Requirement already satisfied: patsy>=0.5.2 in /usr/local/lib/python3.10/dist-packages (from statsmodels) (0.5.3)\n",
            "Requirement already satisfied: packaging>=21.3 in /usr/local/lib/python3.10/dist-packages (from statsmodels) (23.1)\n",
            "Requirement already satisfied: six in /usr/local/lib/python3.10/dist-packages (from patsy>=0.5.2->statsmodels) (1.16.0)\n"
          ]
        }
      ],
      "source": [
        "!pip install scikit-learn pandas numpy statsmodels"
      ]
    },
    {
      "cell_type": "code",
      "source": [
        "import pandas as pd\n",
        "import numpy as np\n",
        "from scipy.stats import ttest_ind"
      ],
      "metadata": {
        "id": "wZkw4A5OLJUe"
      },
      "execution_count": null,
      "outputs": []
    },
    {
      "cell_type": "code",
      "source": [
        "# Load the dataset\n",
        "data = pd.read_excel('lung_expression_data.xlsx')\n",
        "\n",
        "# Remove rows with gene name NULL\n",
        "data = data[data['GENE'] != 'NULL']\n",
        "data = data[data['GENE'] != '']\n",
        "\n",
        "# Split columns into cancerous and normal\n",
        "cancerous_cols = [col for col in data.columns if col.startswith('AD')]\n",
        "normal_cols = [col for col in data.columns if col.startswith('L')]"
      ],
      "metadata": {
        "id": "WpWICDrDLLtb"
      },
      "execution_count": null,
      "outputs": []
    },
    {
      "cell_type": "code",
      "source": [
        "# Perform t-test for each gene\n",
        "p_values = []\n",
        "for index, row in data.iterrows():\n",
        "    cancerous_values = pd.to_numeric(row[cancerous_cols], errors='coerce')\n",
        "    normal_values = pd.to_numeric(row[normal_cols], errors='coerce')\n",
        "    t_stat, p_val = ttest_ind(cancerous_values, normal_values, nan_policy='omit')\n",
        "    p_values.append(p_val)\n",
        "\n",
        "# Add p_values to data\n",
        "data['p_value'] = p_values\n",
        "\n",
        "# Select genes with p-value < 0.05\n",
        "selected_genes = data[data['p_value'] < 0.05]\n",
        "\n",
        "print(selected_genes)"
      ],
      "metadata": {
        "colab": {
          "base_uri": "https://localhost:8080/"
        },
        "id": "ZuCyjUFXLNNL",
        "outputId": "fd83eef8-1c8a-42a0-979a-6d07dce2582f"
      },
      "execution_count": null,
      "outputs": [
        {
          "output_type": "stream",
          "name": "stdout",
          "text": [
            "         GENE          PROBESET Result    AD10     AD2     AD3     AD5  \\\n",
            "8        VRK2       AB000450_at    YES   200.9   151.5   207.6   151.5   \n",
            "34     STXBP2       AB002559_at    YES   287.1   315.0   320.9   173.0   \n",
            "37      PSMD9       AB003177_at    YES   580.5   832.0   499.6   477.6   \n",
            "42     LGALS4     AB006781_s_at    YES   105.0    91.3   541.0   124.9   \n",
            "52      TONDU  AC000115_cds1_at     NO     7.5   257.1     9.0     7.8   \n",
            "...       ...               ...    ...     ...     ...     ...     ...   \n",
            "7029    H3F3B         Z48950_at    YES  5055.9  7499.8  6151.2  7697.4   \n",
            "7055    IDH3G    Z68129_cds1_at    YES   328.5   433.0   399.5   403.2   \n",
            "7061  IMOGN38         Z68747_at    YES    84.4    99.1   108.8    90.2   \n",
            "7092    PTPRR       Z79693_s_at    YES    99.0   102.4    50.6    54.9   \n",
            "7093    ACADS  Z80345_rna1_s_at     NO   -69.6  -101.9   -24.3    24.8   \n",
            "\n",
            "          AD6     AD7     AD8  ...    LN66    LN67    LN69    LN70    LN71  \\\n",
            "8       145.9   149.2   238.8  ...   186.0   273.0   193.6   237.0   233.4   \n",
            "34      314.9   303.4   265.9  ...   317.0   479.7   419.7   439.0   432.8   \n",
            "37      651.8   692.7   606.2  ...   631.6   821.9   555.7   564.6   640.4   \n",
            "42    14373.6   120.6  5825.9  ...    45.0   144.0    74.3   272.4    77.4   \n",
            "52      249.4   -16.9    35.1  ...    -0.8     2.3    -6.1    41.0    15.0   \n",
            "...       ...     ...     ...  ...     ...     ...     ...     ...     ...   \n",
            "7029   6162.4  4702.9  4429.7  ...  4695.3  5410.7  5232.8  5375.8  5363.1   \n",
            "7055    373.9   363.0   624.7  ...   543.5   495.2   524.9   460.8   514.7   \n",
            "7061     75.9   105.3    46.6  ...   275.0   150.5   192.7   160.3   229.1   \n",
            "7092    863.5    59.0   185.3  ...    56.4    51.0    99.1    52.8    56.3   \n",
            "7093    -41.0   -80.4   -30.5  ...   123.0    48.0   114.4   112.2   118.0   \n",
            "\n",
            "       LN72B    LN73    LN74    LN75   p_value  \n",
            "8      153.6   219.4   294.0   223.0  0.039118  \n",
            "34     452.5   320.8   384.6   395.2  0.009199  \n",
            "37     713.5   539.1   556.6   675.6  0.049193  \n",
            "42     130.0   101.3    34.0    28.4  0.000248  \n",
            "52      -4.2   -40.8   -41.8    21.0  0.019354  \n",
            "...      ...     ...     ...     ...       ...  \n",
            "7029  5607.2  6110.0  6513.0  7474.8  0.002155  \n",
            "7055   412.3   593.6   468.9   466.8  0.047542  \n",
            "7061   162.7   177.2   269.0    95.8  0.016305  \n",
            "7092    64.0    48.0    98.8    50.0  0.002594  \n",
            "7093    99.7    78.1    25.3   124.5  0.039235  \n",
            "\n",
            "[306 rows x 100 columns]\n"
          ]
        }
      ]
    },
    {
      "cell_type": "code",
      "source": [
        "# Save the final genes to an Excel file\n",
        "selected_genes.to_excel(\"selected_genes.xlsx\")"
      ],
      "metadata": {
        "id": "Tu4DPfzaMW6j"
      },
      "execution_count": null,
      "outputs": []
    }
  ]
}